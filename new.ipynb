{
 "cells": [
  {
   "cell_type": "code",
   "execution_count": 25,
   "metadata": {},
   "outputs": [
    {
     "data": {
      "application/vnd.jupyter.widget-view+json": {
       "model_id": "dd889eb680614a5cbeb053ba0ac49062",
       "version_major": 2,
       "version_minor": 0
      },
      "text/plain": [
       "Text(value='', description='Dataset:')"
      ]
     },
     "metadata": {},
     "output_type": "display_data"
    },
    {
     "data": {
      "application/vnd.jupyter.widget-view+json": {
       "model_id": "5634599b0be24d699b06472ad393d80d",
       "version_major": 2,
       "version_minor": 0
      },
      "text/plain": [
       "Text(value='', description='Start Date:')"
      ]
     },
     "metadata": {},
     "output_type": "display_data"
    },
    {
     "data": {
      "application/vnd.jupyter.widget-view+json": {
       "model_id": "ed525cf82ee84337aef65cd692c61dde",
       "version_major": 2,
       "version_minor": 0
      },
      "text/plain": [
       "Text(value='', description='End Date:')"
      ]
     },
     "metadata": {},
     "output_type": "display_data"
    },
    {
     "data": {
      "application/vnd.jupyter.widget-view+json": {
       "model_id": "0d7f33ba20e54864adc28da1a7c28ba5",
       "version_major": 2,
       "version_minor": 0
      },
      "text/plain": [
       "Button(description='Submit', style=ButtonStyle())"
      ]
     },
     "metadata": {},
     "output_type": "display_data"
    }
   ],
   "source": [
    "import ipywidgets as widgets\n",
    "from IPython.display import display\n",
    "import pandas as pd\n",
    "import yfinance as yf\n",
    "\n",
    "# Create widgets\n",
    "dataset_widget = widgets.Text(description=\"Dataset:\")  # Renamed widget to avoid conflict\n",
    "start_date_widget = widgets.Text(description=\"Start Date:\")\n",
    "end_date_widget = widgets.Text(description=\"End Date:\")\n",
    "submit_button = widgets.Button(description=\"Submit\")\n",
    "\n",
    "# Display widgets\n",
    "display(dataset_widget, start_date_widget, end_date_widget, submit_button)\n",
    "\n",
    "# Declare df as a global variable\n",
    "global df\n",
    "\n",
    "# Define a function to handle input\n",
    "def handle_submit(b):\n",
    "    global df  # Use the global df variable\n",
    "    # Get values from widgets\n",
    "    dataset = dataset_widget.value\n",
    "    start_date = start_date_widget.value\n",
    "    end_date = end_date_widget.value\n",
    "\n",
    "    # Convert start_date and end_date to datetime\n",
    "    try:\n",
    "        start_date = pd.to_datetime(start_date)\n",
    "        end_date = pd.to_datetime(end_date)\n",
    "        print(f\"Dataset: {dataset}\")\n",
    "        print(f\"Start Date: {start_date}\")\n",
    "        print(f\"End Date: {end_date}\")\n",
    "        \n",
    "        # Download data using yfinance\n",
    "        print(\"Downloading data...\")\n",
    "        df = yf.download(dataset, start=start_date, end=end_date)\n",
    "        \n",
    "        if df.empty:\n",
    "            print(\"No data found for the given inputs.\")\n",
    "        else:\n",
    "            # Convert to DataFrame and save to CSV\n",
    "            data = pd.DataFrame(df)\n",
    "            print(\"Data preview:\")\n",
    "            print(data.head())\n",
    "            file_name = f\"{dataset}_Data.csv\"\n",
    "            data.to_csv(file_name)\n",
    "            print(f\"Data saved to {file_name}\")\n",
    "            \n",
    "            # Read the saved CSV file after saving\n",
    "            df = pd.read_csv(file_name)\n",
    "            \n",
    "            # Drop missing values\n",
    "            df = df.dropna()\n",
    "            \n",
    "            # Display the last 15 rows\n",
    "            print(\"Last 15 rows of the dataset:\")\n",
    "            print(df.tail(15))\n",
    "    except Exception as e:\n",
    "        print(f\"Error: {e}\")\n",
    "\n",
    "# Attach the function to the button click\n",
    "submit_button.on_click(handle_submit)\n"
   ]
  }
 ],
 "metadata": {
  "kernelspec": {
   "display_name": "Python 3",
   "language": "python",
   "name": "python3"
  },
  "language_info": {
   "codemirror_mode": {
    "name": "ipython",
    "version": 3
   },
   "file_extension": ".py",
   "mimetype": "text/x-python",
   "name": "python",
   "nbconvert_exporter": "python",
   "pygments_lexer": "ipython3",
   "version": "3.13.1"
  }
 },
 "nbformat": 4,
 "nbformat_minor": 2
}
