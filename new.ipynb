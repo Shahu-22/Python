{
 "cells": [
  {
   "cell_type": "code",
   "execution_count": 10,
   "metadata": {},
   "outputs": [
    {
     "name": "stdout",
     "output_type": "stream",
     "text": [
      "                 Date      High       Low     Close   Shares Traded  \\\n",
      "Date            Open      High       Low     Close   Shares Traded    \n",
      "10-JUN-2024  23319.15   23411.9  23227.15   23259.2       304392368   \n",
      "11-JUN-2024  23283.75  23389.45  23206.65  23264.85       305185666   \n",
      "12-JUN-2024  23344.45  23441.95  23295.95  23322.95       295630910   \n",
      "13-JUN-2024  23480.95  23481.05   23353.9   23398.9       268279841   \n",
      "\n",
      "             Turnover (₹ Cr)  \n",
      "Date         Turnover (₹ Cr)  \n",
      "10-JUN-2024          29060.4  \n",
      "11-JUN-2024         29190.91  \n",
      "12-JUN-2024         31795.48  \n",
      "13-JUN-2024         30151.67  \n"
     ]
    }
   ],
   "source": [
    "import pandas as pd\n",
    "\n",
    "# Read the CSV file into a DataFrame\n",
    "data = pd.read_csv(\"NIFTY_6month.csv\", names=['Date', 'High', 'Low', 'Close', 'Shares Traded', 'Turnover (₹ Cr)'])\n",
    "\n",
    "# Display the first few rows\n",
    "print(data.head())\n"
   ]
  }
 ],
 "metadata": {
  "kernelspec": {
   "display_name": "Python 3",
   "language": "python",
   "name": "python3"
  },
  "language_info": {
   "codemirror_mode": {
    "name": "ipython",
    "version": 3
   },
   "file_extension": ".py",
   "mimetype": "text/x-python",
   "name": "python",
   "nbconvert_exporter": "python",
   "pygments_lexer": "ipython3",
   "version": "3.13.1"
  }
 },
 "nbformat": 4,
 "nbformat_minor": 2
}
